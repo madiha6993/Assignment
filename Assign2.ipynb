{
 "cells": [
  {
   "cell_type": "markdown",
   "id": "310d3d0c-d984-42c0-a049-16403801c3dd",
   "metadata": {},
   "source": [
    "Q1"
   ]
  },
  {
   "cell_type": "markdown",
   "id": "993c1d1d-3a44-4dc1-bfed-c7110a9c724c",
   "metadata": {},
   "source": [
    "We can comment in two ways either using hastag or starting and ending with 3 double or single qoutes\n",
    "There can be two types of comments, \n",
    "#single line usng hashtag and more than one line using\n",
    "\n",
    "\"\"\"three single qoutes\n",
    "or three double qoutes \"\"\""
   ]
  },
  {
   "cell_type": "markdown",
   "id": "b7ab910f-95af-4267-80bf-aa4fcffced7d",
   "metadata": {},
   "source": [
    "Q2\n",
    "\n",
    "Varaibles store data, they can be of any type- string, integers\n",
    "boolean, float, etc. \n",
    "example : \n"
   ]
  },
  {
   "cell_type": "code",
   "execution_count": 1,
   "id": "6cbeb97b-2560-4115-beeb-bd19b2dfe752",
   "metadata": {},
   "outputs": [],
   "source": [
    "a = \"i am learning python\""
   ]
  },
  {
   "cell_type": "code",
   "execution_count": 2,
   "id": "e83aa1a2-fc3a-4ece-95a0-02fcd4c30a9c",
   "metadata": {},
   "outputs": [
    {
     "data": {
      "text/plain": [
       "str"
      ]
     },
     "execution_count": 2,
     "metadata": {},
     "output_type": "execute_result"
    }
   ],
   "source": [
    "type(a)"
   ]
  },
  {
   "cell_type": "markdown",
   "id": "8ca5315f-085e-4137-afbe-68693a8625d5",
   "metadata": {},
   "source": [
    "this was an example of string "
   ]
  },
  {
   "cell_type": "markdown",
   "id": "15bd73b7-a617-4b4c-92e3-180a8e137604",
   "metadata": {},
   "source": [
    "Q3 \n",
    "\n",
    "We can convert datatypes using typecasting for example \n",
    "a string can be converted to integer. \n",
    "input() functions stores value as a string but int converterts to integer\n",
    "\n",
    "int(input())"
   ]
  },
  {
   "cell_type": "markdown",
   "id": "45de094c-4eed-4378-a5ae-deb1a6210c50",
   "metadata": {},
   "source": [
    "Q5\n",
    "\n",
    "my_list = [1, 2, 3, 4, 5]\n"
   ]
  },
  {
   "cell_type": "code",
   "execution_count": 9,
   "id": "455caeea-a7a8-46e6-969f-91dc4161c3d0",
   "metadata": {},
   "outputs": [
    {
     "data": {
      "text/plain": [
       "[2, 3]"
      ]
     },
     "execution_count": 9,
     "metadata": {},
     "output_type": "execute_result"
    }
   ],
   "source": [
    "my_list = [1, 2, 3, 4, 5]\n",
    "\n",
    "sub_list = my_list[1:3]\n",
    "sub_list"
   ]
  },
  {
   "cell_type": "markdown",
   "id": "9835f99b-42d8-4d0a-bccf-a84e52076539",
   "metadata": {},
   "source": [
    "Q6\n",
    "\n",
    "Complex number is the unversal set of all numbers that exist in the universe. I maths they are represented as (a+bi) while in programming they are represented as (a+bj) where b = imaginary part and a = real part and j means iota "
   ]
  },
  {
   "cell_type": "code",
   "execution_count": null,
   "id": "5525310a-f3a7-46e6-8892-538e281d2878",
   "metadata": {},
   "outputs": [],
   "source": []
  },
  {
   "cell_type": "markdown",
   "id": "2a7b5726-f466-43fb-8948-8935d3507b87",
   "metadata": {},
   "source": [
    "Q7"
   ]
  },
  {
   "cell_type": "code",
   "execution_count": 15,
   "id": "43509cd2-9344-497d-8e1c-d983180bffba",
   "metadata": {},
   "outputs": [
    {
     "data": {
      "text/plain": [
       "25"
      ]
     },
     "execution_count": 15,
     "metadata": {},
     "output_type": "execute_result"
    }
   ],
   "source": [
    "Age = 25\n",
    "Age"
   ]
  },
  {
   "cell_type": "markdown",
   "id": "992c9fc8-4e2c-412a-a33d-58ba1303cc15",
   "metadata": {},
   "source": [
    "Q8"
   ]
  },
  {
   "cell_type": "code",
   "execution_count": 16,
   "id": "b11e85ba-1378-46dc-8aa7-930f4c154eb9",
   "metadata": {},
   "outputs": [
    {
     "data": {
      "text/plain": [
       "float"
      ]
     },
     "execution_count": 16,
     "metadata": {},
     "output_type": "execute_result"
    }
   ],
   "source": [
    "price = 9.99 \n",
    "type(price)"
   ]
  },
  {
   "cell_type": "markdown",
   "id": "3ac10b87-e8fe-4941-9631-116aeea0d513",
   "metadata": {},
   "source": [
    "Q9"
   ]
  },
  {
   "cell_type": "code",
   "execution_count": 18,
   "id": "e0a2fc59-5a04-4f65-8df7-061298c6f2ec",
   "metadata": {},
   "outputs": [
    {
     "data": {
      "text/plain": [
       "'Madiha Tahreem'"
      ]
     },
     "execution_count": 18,
     "metadata": {},
     "output_type": "execute_result"
    }
   ],
   "source": [
    "name = \"Madiha Tahreem\"\n",
    "name\n"
   ]
  },
  {
   "cell_type": "markdown",
   "id": "ec0c066d-6751-4a55-a396-59f2b4aa97d3",
   "metadata": {},
   "source": [
    "Q10"
   ]
  },
  {
   "cell_type": "code",
   "execution_count": 26,
   "id": "b092bd03-a9f7-43cf-bf6f-39efb156b51d",
   "metadata": {},
   "outputs": [
    {
     "data": {
      "text/plain": [
       "'World'"
      ]
     },
     "execution_count": 26,
     "metadata": {},
     "output_type": "execute_result"
    }
   ],
   "source": [
    "str = \"Hello, World!\"\n",
    "\n",
    "a = str[7:12]\n",
    "a"
   ]
  },
  {
   "cell_type": "markdown",
   "id": "dd59c4ea-672f-42fe-89a3-7c389a0bdd99",
   "metadata": {},
   "source": [
    "Q11"
   ]
  },
  {
   "cell_type": "code",
   "execution_count": 46,
   "id": "04247c4c-581c-45fe-a025-6243d29f745b",
   "metadata": {},
   "outputs": [],
   "source": [
    "\n",
    "is_student = True\n"
   ]
  },
  {
   "cell_type": "code",
   "execution_count": 47,
   "id": "aff29463-fa61-440e-af46-97fb8161a35d",
   "metadata": {},
   "outputs": [
    {
     "data": {
      "text/plain": [
       "1"
      ]
     },
     "execution_count": 47,
     "metadata": {},
     "output_type": "execute_result"
    }
   ],
   "source": [
    "10%3"
   ]
  },
  {
   "cell_type": "code",
   "execution_count": 48,
   "id": "e7569e9b-07ca-436c-8ccc-c5589492f5b1",
   "metadata": {},
   "outputs": [
    {
     "ename": "IndentationError",
     "evalue": "expected an indented block after 'if' statement on line 7 (3473910652.py, line 9)",
     "output_type": "error",
     "traceback": [
      "\u001b[0;36m  Cell \u001b[0;32mIn[48], line 9\u001b[0;36m\u001b[0m\n\u001b[0;31m    print(\"x is greater than y\")\u001b[0m\n\u001b[0m    ^\u001b[0m\n\u001b[0;31mIndentationError\u001b[0m\u001b[0;31m:\u001b[0m expected an indented block after 'if' statement on line 7\n"
     ]
    }
   ],
   "source": [
    "x = 5\n",
    "\n",
    "y = 2\n",
    "\n",
    " \n",
    "\n",
    "if x > y:\n",
    "\n",
    "print(\"x is greater than y\")\n",
    "\n",
    "elif x < y:\n",
    "\n",
    "print(\"x is less than y\")\n",
    "\n",
    "else:\n",
    "\n",
    "print(\"x is equal to y\")"
   ]
  },
  {
   "cell_type": "code",
   "execution_count": 55,
   "id": "adfcbea1-8d05-42f7-be42-48c196f0e2af",
   "metadata": {},
   "outputs": [],
   "source": [
    "for i in range(5):\n",
    "    if i == 2:\n",
    "        continue\n",
    "        print(i)"
   ]
  },
  {
   "cell_type": "code",
   "execution_count": null,
   "id": "63f67cef-8b4f-495e-bda5-ce20bcf57039",
   "metadata": {},
   "outputs": [],
   "source": []
  }
 ],
 "metadata": {
  "kernelspec": {
   "display_name": "Python 3 (ipykernel)",
   "language": "python",
   "name": "python3"
  },
  "language_info": {
   "codemirror_mode": {
    "name": "ipython",
    "version": 3
   },
   "file_extension": ".py",
   "mimetype": "text/x-python",
   "name": "python",
   "nbconvert_exporter": "python",
   "pygments_lexer": "ipython3",
   "version": "3.10.8"
  }
 },
 "nbformat": 4,
 "nbformat_minor": 5
}
